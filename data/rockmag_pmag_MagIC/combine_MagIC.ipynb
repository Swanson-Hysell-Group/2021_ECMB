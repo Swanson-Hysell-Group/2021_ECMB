{
 "cells": [
  {
   "cell_type": "markdown",
   "metadata": {},
   "source": [
    "# Combine rockmag and pmag data into a single MagIC contribution\n",
    "\n",
    "We have a MagIC files created using Pmag_GUI associated with the ECMB study and another one exported from the IRM database. We need to combine these files into a single MagIC contribution."
   ]
  },
  {
   "cell_type": "code",
   "execution_count": 1,
   "metadata": {},
   "outputs": [],
   "source": [
    "import pmagpy.ipmag as ipmag\n",
    "import shutil"
   ]
  },
  {
   "cell_type": "markdown",
   "metadata": {},
   "source": [
    "## Unpack the rockmag and pmag MagIC files into their constituent tables\n",
    "\n",
    "Use `ipmag.unpack_magic()` to extract the tables out of the MagIC contribution."
   ]
  },
  {
   "cell_type": "code",
   "execution_count": 2,
   "metadata": {},
   "outputs": [
    {
     "name": "stdout",
     "output_type": "stream",
     "text": [
      "working on:  'specimens\\r'\n",
      "15  records written to file  /Users/penokean/0000_GitHub/2021_ECMB/data/rockmag_pmag_MagIC/rockmag/specimens.txt\n",
      "  data put in  /Users/penokean/0000_GitHub/2021_ECMB/data/rockmag_pmag_MagIC/rockmag/specimens.txt\n",
      "working on:  'samples\\r'\n",
      "5  records written to file  /Users/penokean/0000_GitHub/2021_ECMB/data/rockmag_pmag_MagIC/rockmag/samples.txt\n",
      "  data put in  /Users/penokean/0000_GitHub/2021_ECMB/data/rockmag_pmag_MagIC/rockmag/samples.txt\n",
      "working on:  'sites\\r'\n",
      "5  records written to file  /Users/penokean/0000_GitHub/2021_ECMB/data/rockmag_pmag_MagIC/rockmag/sites.txt\n",
      "  data put in  /Users/penokean/0000_GitHub/2021_ECMB/data/rockmag_pmag_MagIC/rockmag/sites.txt\n",
      "working on:  'locations\\r'\n",
      "10  records written to file  /Users/penokean/0000_GitHub/2021_ECMB/data/rockmag_pmag_MagIC/rockmag/locations.txt\n",
      "  data put in  /Users/penokean/0000_GitHub/2021_ECMB/data/rockmag_pmag_MagIC/rockmag/locations.txt\n",
      "working on:  'measurements\\r'\n",
      "5018  records written to file  /Users/penokean/0000_GitHub/2021_ECMB/data/rockmag_pmag_MagIC/rockmag/measurements.txt\n",
      "  data put in  /Users/penokean/0000_GitHub/2021_ECMB/data/rockmag_pmag_MagIC/rockmag/measurements.txt\n"
     ]
    },
    {
     "data": {
      "text/plain": [
       "True"
      ]
     },
     "execution_count": 2,
     "metadata": {},
     "output_type": "execute_result"
    }
   ],
   "source": [
    "ipmag.unpack_magic('rockmag/ECMB_IRM_MagIC_export.TXT', dir_path='rockmag')"
   ]
  },
  {
   "cell_type": "code",
   "execution_count": 3,
   "metadata": {},
   "outputs": [
    {
     "name": "stdout",
     "output_type": "stream",
     "text": [
      "working on:  'contribution'\n",
      "1  records written to file  /Users/penokean/0000_GitHub/2021_ECMB/data/rockmag_pmag_MagIC/pmag/contribution.txt\n",
      "contribution  data put in  /Users/penokean/0000_GitHub/2021_ECMB/data/rockmag_pmag_MagIC/pmag/contribution.txt\n",
      "working on:  'locations'\n",
      "1  records written to file  /Users/penokean/0000_GitHub/2021_ECMB/data/rockmag_pmag_MagIC/pmag/locations.txt\n",
      "locations  data put in  /Users/penokean/0000_GitHub/2021_ECMB/data/rockmag_pmag_MagIC/pmag/locations.txt\n",
      "working on:  'sites'\n",
      "90  records written to file  /Users/penokean/0000_GitHub/2021_ECMB/data/rockmag_pmag_MagIC/pmag/sites.txt\n",
      "sites  data put in  /Users/penokean/0000_GitHub/2021_ECMB/data/rockmag_pmag_MagIC/pmag/sites.txt\n",
      "working on:  'samples'\n",
      "312  records written to file  /Users/penokean/0000_GitHub/2021_ECMB/data/rockmag_pmag_MagIC/pmag/samples.txt\n",
      "samples  data put in  /Users/penokean/0000_GitHub/2021_ECMB/data/rockmag_pmag_MagIC/pmag/samples.txt\n",
      "working on:  'specimens'\n",
      "1559  records written to file  /Users/penokean/0000_GitHub/2021_ECMB/data/rockmag_pmag_MagIC/pmag/specimens.txt\n",
      "specimens  data put in  /Users/penokean/0000_GitHub/2021_ECMB/data/rockmag_pmag_MagIC/pmag/specimens.txt\n",
      "working on:  'measurements'\n",
      "12410  records written to file  /Users/penokean/0000_GitHub/2021_ECMB/data/rockmag_pmag_MagIC/pmag/measurements.txt\n",
      "measurements  data put in  /Users/penokean/0000_GitHub/2021_ECMB/data/rockmag_pmag_MagIC/pmag/measurements.txt\n"
     ]
    },
    {
     "data": {
      "text/plain": [
       "True"
      ]
     },
     "execution_count": 3,
     "metadata": {},
     "output_type": "execute_result"
    }
   ],
   "source": [
    "ipmag.unpack_magic('pmag/magic_contribution_17072.txt', dir_path='pmag')"
   ]
  },
  {
   "cell_type": "markdown",
   "metadata": {},
   "source": [
    "## Combine\n",
    "\n",
    "Now that the individual tables are extracted, we can combine the specimens and measurements tables into a single one."
   ]
  },
  {
   "cell_type": "code",
   "execution_count": 4,
   "metadata": {},
   "outputs": [
    {
     "name": "stdout",
     "output_type": "stream",
     "text": [
      "-I- Using cached data model\n",
      "-I- Getting method codes from earthref.org\n",
      "-I- Importing controlled vocabularies from https://earthref.org\n",
      "-I- overwriting /Users/penokean/0000_GitHub/2021_ECMB/data/rockmag_pmag_MagIC/specimens.txt\n",
      "-I- 1574 records written to specimens file\n"
     ]
    },
    {
     "data": {
      "text/plain": [
       "'/Users/penokean/0000_GitHub/2021_ECMB/data/rockmag_pmag_MagIC/specimens.txt'"
      ]
     },
     "execution_count": 4,
     "metadata": {},
     "output_type": "execute_result"
    }
   ],
   "source": [
    "ipmag.combine_magic(['pmag/specimens.txt','rockmag/specimens.txt'], \n",
    "                    outfile='specimens.txt',\n",
    "                    magic_table='specimens')"
   ]
  },
  {
   "cell_type": "code",
   "execution_count": 5,
   "metadata": {},
   "outputs": [
    {
     "name": "stdout",
     "output_type": "stream",
     "text": [
      "-I- overwriting /Users/penokean/0000_GitHub/2021_ECMB/data/rockmag_pmag_MagIC/measurements.txt\n",
      "-I- 17428 records written to measurements file\n"
     ]
    },
    {
     "data": {
      "text/plain": [
       "'/Users/penokean/0000_GitHub/2021_ECMB/data/rockmag_pmag_MagIC/measurements.txt'"
      ]
     },
     "execution_count": 5,
     "metadata": {},
     "output_type": "execute_result"
    }
   ],
   "source": [
    "ipmag.combine_magic(['pmag/measurements.txt','rockmag/measurements.txt'], \n",
    "                    outfile='measurements.txt',\n",
    "                    magic_table='measurements')"
   ]
  },
  {
   "cell_type": "markdown",
   "metadata": {},
   "source": [
    "## Copy tables that don't need to be combined\n",
    "\n",
    "Given that all of the sample, site, and location information is in the pmag contribution, we can copy those tables from the pmag folder into the main contribution"
   ]
  },
  {
   "cell_type": "code",
   "execution_count": 6,
   "metadata": {},
   "outputs": [
    {
     "data": {
      "text/plain": [
       "'samples.txt'"
      ]
     },
     "execution_count": 6,
     "metadata": {},
     "output_type": "execute_result"
    }
   ],
   "source": [
    "shutil.copy('pmag/locations.txt', 'locations.txt')\n",
    "shutil.copy('pmag/sites.txt', 'sites.txt')\n",
    "shutil.copy('pmag/samples.txt', 'samples.txt')"
   ]
  },
  {
   "cell_type": "markdown",
   "metadata": {},
   "source": [
    "## Merge tables into a new MagIC contribution"
   ]
  },
  {
   "cell_type": "code",
   "execution_count": 7,
   "metadata": {},
   "outputs": [
    {
     "name": "stdout",
     "output_type": "stream",
     "text": [
      "-I- /Users/penokean/0000_GitHub/2021_ECMB/data/rockmag_pmag_MagIC/locations.txt file successfully read in\n",
      "1  records written to file  /Users/penokean/0000_GitHub/2021_ECMB/data/rockmag_pmag_MagIC/upload.txt\n",
      "-I- /Users/penokean/0000_GitHub/2021_ECMB/data/rockmag_pmag_MagIC/locations.txt written to  /Users/penokean/0000_GitHub/2021_ECMB/data/rockmag_pmag_MagIC/upload.txt\n",
      "-I- /Users/penokean/0000_GitHub/2021_ECMB/data/rockmag_pmag_MagIC/samples.txt file successfully read in\n",
      "-I- dropping these columns: result_type from the /Users/penokean/0000_GitHub/2021_ECMB/data/rockmag_pmag_MagIC/samples.txt table\n",
      "312  records written to file  /Users/penokean/0000_GitHub/2021_ECMB/data/rockmag_pmag_MagIC/upload.txt\n",
      "-I- /Users/penokean/0000_GitHub/2021_ECMB/data/rockmag_pmag_MagIC/samples.txt written to  /Users/penokean/0000_GitHub/2021_ECMB/data/rockmag_pmag_MagIC/upload.txt\n",
      "-I- /Users/penokean/0000_GitHub/2021_ECMB/data/rockmag_pmag_MagIC/specimens.txt file successfully read in\n",
      "1574  records written to file  /Users/penokean/0000_GitHub/2021_ECMB/data/rockmag_pmag_MagIC/upload.txt\n",
      "-I- /Users/penokean/0000_GitHub/2021_ECMB/data/rockmag_pmag_MagIC/specimens.txt written to  /Users/penokean/0000_GitHub/2021_ECMB/data/rockmag_pmag_MagIC/upload.txt\n",
      "-I- /Users/penokean/0000_GitHub/2021_ECMB/data/rockmag_pmag_MagIC/sites.txt file successfully read in\n",
      "-I- dropping these columns: result_type from the /Users/penokean/0000_GitHub/2021_ECMB/data/rockmag_pmag_MagIC/sites.txt table\n",
      "90  records written to file  /Users/penokean/0000_GitHub/2021_ECMB/data/rockmag_pmag_MagIC/upload.txt\n",
      "-I- /Users/penokean/0000_GitHub/2021_ECMB/data/rockmag_pmag_MagIC/sites.txt written to  /Users/penokean/0000_GitHub/2021_ECMB/data/rockmag_pmag_MagIC/upload.txt\n",
      "-I- /Users/penokean/0000_GitHub/2021_ECMB/data/rockmag_pmag_MagIC/measurements.txt file successfully read in\n",
      "-I- dropping these columns: external_database_ids from the /Users/penokean/0000_GitHub/2021_ECMB/data/rockmag_pmag_MagIC/measurements.txt table\n",
      "17428  records written to file  /Users/penokean/0000_GitHub/2021_ECMB/data/rockmag_pmag_MagIC/upload.txt\n",
      "-I- /Users/penokean/0000_GitHub/2021_ECMB/data/rockmag_pmag_MagIC/measurements.txt written to  /Users/penokean/0000_GitHub/2021_ECMB/data/rockmag_pmag_MagIC/upload.txt\n",
      "Finished preparing upload file: /Users/penokean/0000_GitHub/2021_ECMB/data/rockmag_pmag_MagIC/ECMB_06.Sep.2024_1.txt \n",
      "Validating upload file with public endpoint\n",
      "status_code= 500\n"
     ]
    },
    {
     "data": {
      "text/plain": [
       "('/Users/penokean/0000_GitHub/2021_ECMB/data/rockmag_pmag_MagIC/ECMB_06.Sep.2024_1.txt',\n",
       " {'status': False, 'validation': [], 'warnings': 'Status code 500'},\n",
       " None,\n",
       " None)"
      ]
     },
     "execution_count": 7,
     "metadata": {},
     "output_type": "execute_result"
    }
   ],
   "source": [
    "ipmag.upload_magic()"
   ]
  },
  {
   "cell_type": "markdown",
   "metadata": {},
   "source": [
    "The initial effort to do this combination led to these errors:\n",
    "\n",
    "```\n",
    "Method Codes (1 Error)\n",
    "The specimens table is missing data in required column \"method_codes\". (Rows: 1560-1564)\n",
    "Citation DOIs (1 Error)\n",
    "The specimens table is missing data in required column \"citations\". (Rows: 1560-1574)\n",
    "Critical Temperature Type (1 Error)\n",
    "The specimens table column \"critical_temp_type\" value \"Verwey transition\" is not in the \"Critical Temperature Types\" controlled vocabulary. (Rows: 1573-1574)\n",
    "```\n",
    "\n",
    "The solution taken for the moment is to manually in the online interface to:\n",
    "- add `LP-NOMAG` as the method_codes for specimens with no experimental data\n",
    "- add `This study` as the citations value\n",
    "- change \"Verwey transition\" to \"Verwey\"\n",
    "\n",
    "After those changes, the contribution passed validation and was uploaded."
   ]
  }
 ],
 "metadata": {
  "kernelspec": {
   "display_name": "base",
   "language": "python",
   "name": "python3"
  },
  "language_info": {
   "codemirror_mode": {
    "name": "ipython",
    "version": 3
   },
   "file_extension": ".py",
   "mimetype": "text/x-python",
   "name": "python",
   "nbconvert_exporter": "python",
   "pygments_lexer": "ipython3",
   "version": "3.9.13"
  }
 },
 "nbformat": 4,
 "nbformat_minor": 2
}
