{
 "cells": [
  {
   "cell_type": "markdown",
   "metadata": {},
   "source": [
    "# ECMB paleogeographic reconstructions generation\n",
    "\n",
    "This Jupyter notebook develops paleogeographic reconstructions for Laurentia using the ```pygplates``` module (it therefore needs to be run with a Python 2.7 kernel). \n",
    "\n",
    "This Jupyter notebook accompanies the paper:\n",
    "\n",
    "Swanson-Hysell et al. 2021 **The paleogeography of Laurentia in its early years: new constraints from the Paleoproterozoic East Central Minnesota batholith**\n",
    "\n",
    "## Terrane plate IDs\n",
    "\n",
    "| Tectonic Block | Plate ID | Plate ID note |\n",
    "|------|-----|-----|\n",
    "| Churchill Province | 10496 | corresponds to Churchill (SE) in EE |\n",
    "| Hearne Province | 10015 | corresponds to Hearne South in EE |\n",
    "| Greenland_Aasiaat | 10028 | corresponds to Aasiaat in EE |\n",
    "| Greenland_Inglefield | 10568 | corresponds to Inglefield in EE |\n",
    "| Greenland_Ketilidian | 10018 | corresponds to Ketilidian in EE |\n",
    "| Greenland_NorthAtlantic | 10032 | corresponds to North Atlantic in EE |\n",
    "| Greenland_Rae | 10036 | corresponds to Rae (Greenland) in EE |\n",
    "| Grouse Creek Block | 19049 |  No equivelant block in EE (grouped with Wyoming) |\n",
    "| Marshfield Terrane | 19000 | No equivelant block in EE |\n",
    "| Medicine Hat Block | 10551 | corresponds to Medicine Hat in EE|\n",
    "| MetaIncognita Block | 10545 | Not given this name in WK07, but has differential motion relative to Rae; corresponds to MetaIncognita Block in EE |\n",
    "| Nain | 10029 | corresponds to Nain in EE (mainland Canada) |\n",
    "| Mojavia | 10052 | corresponds to Mojave in EE |\n",
    "| Nova | 10549 | Cordillera Archean Block in WK07; corresponds to Paleoproteroic Nova Block in EE |\n",
    "| Rae Province | 10640 | corresponds to Rae (SW) in EE |\n",
    "| Sask craton | 10039 | correspond to Sask in EE |\n",
    "| Scotland | 10258 | not a block in the WK07 model, but assigned to pole list; corresponds to N Highlands in EE\n",
    "| Slave Province | 10041 | corresponds to Slave W in EE |\n",
    "| Superior (east) | 10043 | corresponds to Superior (Abitibi) in EE |\n",
    "| Superior (west) | 10023 | corresponds to Superior (Minnesota River Valley) in EE |\n",
    "| Svalbard | 10296 | corresponds to Svalbard E in EE |\n",
    "| Wyoming Province | 10049 | corresponds to Wyoming in EE |"
   ]
  },
  {
   "cell_type": "code",
   "execution_count": 1,
   "metadata": {},
   "outputs": [],
   "source": [
    "import pandas as pd\n",
    "import numpy as np\n",
    "import matplotlib.pyplot as plt\n",
    "import pygplates"
   ]
  },
  {
   "cell_type": "markdown",
   "metadata": {},
   "source": [
    "## Make GMPL files of poles"
   ]
  },
  {
   "cell_type": "code",
   "execution_count": 2,
   "metadata": {},
   "outputs": [],
   "source": [
    "def make_GPML(pmag_data,output_file_name):\n",
    "    vgps = []\n",
    "    for n in pmag_data.index:\n",
    "        # The pole position and the average sample site position.\n",
    "        pole_position = pygplates.PointOnSphere(pmag_data.PLAT[n], pmag_data.PLONG[n])\n",
    "        average_sample_site_position = pygplates.PointOnSphere(pmag_data.SLAT[n], pmag_data.SLONG[n])\n",
    "\n",
    "        # Create the virtual geomagnetic pole feature.\n",
    "        virtual_geomagnetic_pole_feature = pygplates.Feature.create_reconstructable_feature(\n",
    "            pygplates.FeatureType.gpml_virtual_geomagnetic_pole,pole_position,\n",
    "            name=str(pmag_data.ROCKNAME[n]),reconstruction_plate_id=int(pmag_data.Plate_ID[n]))\n",
    "        \n",
    "        #, reconstruction_plate_id=str(pmag_data.Plate_ID[n]))\n",
    "\n",
    "        # Set the average sample site position.\n",
    "        # We need to specify its property name otherwise it defaults to the pole position and overwrites it.\n",
    "        virtual_geomagnetic_pole_feature.set_geometry(\n",
    "            average_sample_site_position,\n",
    "            pygplates.PropertyName.gpml_average_sample_site_position) \n",
    "        \n",
    "        # Set the pole position uncertainty and the average age.\n",
    "        virtual_geomagnetic_pole_feature.set_double(\n",
    "            pygplates.PropertyName.gpml_pole_a95,\n",
    "            float(pmag_data.A95[n]))\n",
    "        virtual_geomagnetic_pole_feature.set_double(\n",
    "            pygplates.PropertyName.gpml_average_age,\n",
    "            pmag_data['nominal age'][n])\n",
    "        vgps.append(virtual_geomagnetic_pole_feature)\n",
    "        \n",
    "    output_features = pygplates.FeatureCollection(vgps)\n",
    "\n",
    "    # Note that the output format could be shp, gmt, gpml or gpmlz - the extension controls the format\n",
    "    output_features.write(output_file_name)"
   ]
  },
  {
   "cell_type": "code",
   "execution_count": 3,
   "metadata": {},
   "outputs": [],
   "source": [
    "Leirubakki_poles = pd.read_csv('../data/pole_compilations/Leirubakki_poles_w_PlateID.csv')\n",
    "Leirubakki_poles.dropna(subset = [\"Plate_ID\"], inplace=True)\n",
    "make_GPML(Leirubakki_poles,'../data/pole_compilations/Laurentia_poles.gpml')"
   ]
  },
  {
   "cell_type": "markdown",
   "metadata": {},
   "source": [
    "## Make Laurentia reconstructions with a simple Laurentia rotation model"
   ]
  },
  {
   "cell_type": "code",
   "execution_count": 4,
   "metadata": {},
   "outputs": [],
   "source": [
    "rotation_model = pygplates.FeatureCollection('../Data/pole_compilations/simple_Laurentia_model.rot')\n",
    "\n",
    "anchor_plate = 0\n",
    "Laurentia_pre_430 = '../Data/GIS/Laurentia.shp'\n",
    "\n",
    "time_list = [2212,2110,2018,1888,1868,1760,0]\n",
    "\n",
    "pygplates.reconstruct(Laurentia_pre_430, rotation_model, 'visualizations/reconstructions/0Ma_Laurentia_pre_430.shp', 0, anchor_plate)\n",
    "#for reconstruction_time in [1740,1440,1140,740]:\n",
    "for reconstruction_time in time_list:\n",
    "    export_filename = 'visualizations/reconstructions/{0}Ma_Laurentia.shp'.format(reconstruction_time)\n",
    "    pygplates.reconstruct(Laurentia_pre_430, rotation_model, export_filename, reconstruction_time, anchor_plate)"
   ]
  },
  {
   "cell_type": "markdown",
   "metadata": {},
   "source": [
    "Calculate and export the Euler poles for Laurentia associated with the reconstruction times and export to .csv"
   ]
  },
  {
   "cell_type": "code",
   "execution_count": 5,
   "metadata": {},
   "outputs": [],
   "source": [
    "def make_euler_file(plate_id,times,input_rotation_filename):\n",
    "    \n",
    "    empty_series = pd.Series(np.zeros(len(times)))\n",
    "    rotations = pd.DataFrame(columns = ['time', 'pole_lat', 'pole_lon', 'pole_angle'])\n",
    "    rotations['time'] = empty_series\n",
    "    rotations['pole_lat'] = empty_series\n",
    "    rotations['pole_lon'] = empty_series\n",
    "    rotations['pole_angle'] = empty_series\n",
    "\n",
    "    rotation_model_object = pygplates.RotationModel(input_rotation_filename)\n",
    "\n",
    "    for n in range(0,len(times)):\n",
    "        finite_rotation = rotation_model_object.get_rotation(times[n],plate_id,0,0)\n",
    "        pole_lat,pole_lon,pole_angle = finite_rotation.get_lat_lon_euler_pole_and_angle_degrees()\n",
    "        rotations['time'][n] = times[n]\n",
    "        rotations['pole_lat'][n] = pole_lat\n",
    "        rotations['pole_lon'][n] = pole_lon\n",
    "        rotations['pole_angle'][n] = pole_angle\n",
    "\n",
    "    rotations.to_csv('visualizations/reconstructions/euler_rotations_{0}.csv'.format(plate_id))\n",
    "    \n",
    "make_euler_file(10043,[2212,2110,2018,1888,1868,1760,0],'../Data/pole_compilations/simple_Laurentia_model.rot')\n",
    "make_euler_file(10023,[2212,2110,2018,1888,1868,1760,0],'../Data/pole_compilations/simple_Laurentia_model.rot')\n",
    "make_euler_file(10041,[2212,2110,2018,1888,1868,1760,0],'../Data/pole_compilations/simple_Laurentia_model.rot')\n",
    "make_euler_file(10640,[2212,2110,2018,1888,1868,1760,0],'../Data/pole_compilations/simple_Laurentia_model.rot')\n",
    "make_euler_file(1000,[2212,2110,2018,1888,1868,1760,0],'../Data/pole_compilations/simple_Laurentia_model.rot')"
   ]
  }
 ],
 "metadata": {
  "kernelspec": {
   "display_name": "Python 2",
   "language": "python",
   "name": "python2"
  },
  "language_info": {
   "codemirror_mode": {
    "name": "ipython",
    "version": 2
   },
   "file_extension": ".py",
   "mimetype": "text/x-python",
   "name": "python",
   "nbconvert_exporter": "python",
   "pygments_lexer": "ipython2",
   "version": "2.7.12"
  }
 },
 "nbformat": 4,
 "nbformat_minor": 4
}
